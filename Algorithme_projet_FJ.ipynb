{
 "cells": [
  {
   "cell_type": "code",
   "execution_count": 1,
   "metadata": {},
   "outputs": [],
   "source": [
    "import numpy as np\n",
    "import pandas as pd\n",
    "import matplotlib.pyplot as plt"
   ]
  },
  {
   "cell_type": "code",
   "execution_count": 2,
   "metadata": {},
   "outputs": [],
   "source": [
    "# Model\n",
    "class recommendeur:\n",
    "    '''\n",
    "    Recommandation distances cosinus    \n",
    "    '''\n",
    "    \n",
    "    \n",
    "    '''\n",
    "        Constructeur avec jeu de donnees : chargement du jeux de donnees\n",
    "        \n",
    "        params :\n",
    "        meta : pandas dataframe avec colonnes: [id, noms]\n",
    "        ratings : pandas dataframe avec colonnes : [user id, film id, rating]\n",
    "        \n",
    "        * note : les user id range de 1,...,number_user\n",
    "    '''\n",
    "    def __init__(self, meta, ratings, rating_missing_value=2.5):\n",
    "        self.meta = meta\n",
    "        self.ratings = ratings\n",
    "        \n",
    "        # calcul du nombre de films\n",
    "        self.number_films = len(ratings.iloc[:,1].unique())\n",
    "        \n",
    "        # calcul du nombre d'utilisateur\n",
    "        self.number_user = len(ratings.iloc[:,0].unique())\n",
    "        \n",
    "        # dictionnaire de conversion index film : film_id -> index [0 , ... , number_films - 1]\n",
    "        self.index = {meta.iloc[i,0]:i for i in range(self.number_films)}\n",
    "        self.index_nom = {meta.iloc[i,1]:i for i in range(self.number_films)}\n",
    "        \n",
    "        # Matrice des features : films sont les observations et les ratings des user sont les features\n",
    "        self.X = rating_missing_value*np.ones((self.number_films, self.number_user))\n",
    "        for i in range(len(ratings)):\n",
    "            if ratings.iloc[i,2] != -1 and ratings.iloc[i,1] in self.index:\n",
    "                self.X[ self.index[ratings.iloc[i,1]], ratings.iloc[i,0]-1 ] = ratings.iloc[i,2]\n",
    "                \n",
    "    def calcul_distance(self, film1, film2):\n",
    "        return np.sum(self.X[film1]*self.X[film2])/(np.linalg.norm(self.X[film1])*np.linalg.norm(self.X[film2]))\n",
    "    \n",
    "    '''  Recommander des nouveau films\n",
    "    \n",
    "         deja_vue : liste de titre de film deja appreciee\n",
    "         nombre : nombre de recommendations\n",
    "         option : et/ou\n",
    "             et : retourn des films qui sont en liens avec tout les films deja_vu\n",
    "             ou : retourn des films qui sont en liens avec au moins un des films deja vu\n",
    "    '''\n",
    "    def recommander(self, deja_vue, nombre=4, option='ou'): \n",
    "        idx = [self.index_nom[film] for film in deja_vue]\n",
    "        \n",
    "        d = -1000+np.zeros(self.number_films)\n",
    "        for j in range(self.number_films):\n",
    "            if j not in idx:\n",
    "                if option=='ou':\n",
    "                    similarite = 0\n",
    "                elif option=='et':\n",
    "                    similarite = 1\n",
    "                \n",
    "                for i in idx:\n",
    "                    if option=='ou':\n",
    "                        similarite += self.calcul_distance(i,j)\n",
    "                    elif option=='et':\n",
    "                        similarite *= self.calcul_distance(i,j)\n",
    "                d[j] = similarite\n",
    "                \n",
    "        rec_idx = np.argsort(d)[-nombre:]\n",
    "        return [self.meta.iloc[ri,1] for ri in rec_idx]"
   ]
  },
  {
   "cell_type": "code",
   "execution_count": 3,
   "metadata": {},
   "outputs": [],
   "source": [
    "# Charger les donnes des titres\n",
    "animes_meta = pd.read_csv('anime.csv', usecols=[0,1])\n",
    "movies_meta = pd.read_csv('movies_metadata.csv', usecols=[5, 8])\n",
    "movies_id = pd.read_csv('movies_links_small.csv')"
   ]
  },
  {
   "cell_type": "code",
   "execution_count": 4,
   "metadata": {},
   "outputs": [],
   "source": [
    "# Charger les ratings\n",
    "animes_ratings = pd.read_csv('animes_rating.csv')\n",
    "movies_ratings = pd.read_csv('movies_ratings_small.csv', usecols=[0,1,2])"
   ]
  },
  {
   "cell_type": "code",
   "execution_count": 5,
   "metadata": {},
   "outputs": [],
   "source": [
    "# Reduction de la taille du jeu de donnees animes : 1000 users\n",
    "animes_ratings_reduit = animes_ratings[animes_ratings['user_id'] <= 1000]"
   ]
  },
  {
   "cell_type": "code",
   "execution_count": 6,
   "metadata": {},
   "outputs": [],
   "source": [
    "# conversion des index imdb pour movies_meta\n",
    "def isfloat(value):\n",
    "    try:\n",
    "        float(value)\n",
    "        return True\n",
    "    except ValueError:\n",
    "        return False\n",
    "\n",
    "for i in range(len(movies_meta)):\n",
    "    #print(i)\n",
    "    if isfloat(movies_meta.iloc[i,0]) and  (movies_id['tmdbId']==float(movies_meta.iloc[i,0])).sum()==1: \n",
    "        movies_meta.at[i,'id'] = int(movies_id['movieId'][movies_id['tmdbId']==float(movies_meta.iloc[i,0]) ].iloc[0] )"
   ]
  },
  {
   "cell_type": "code",
   "execution_count": 7,
   "metadata": {},
   "outputs": [],
   "source": [
    "# Definition de l'objet du recommendeur pour animes\n",
    "r1 = recommendeur(animes_meta, animes_ratings_reduit)"
   ]
  },
  {
   "cell_type": "code",
   "execution_count": 11,
   "metadata": {
    "scrolled": true
   },
   "outputs": [
    {
     "data": {
      "text/plain": [
       "['Doraemon: The Day When I Was Born',\n",
       " 'Battle Spirits: Brave',\n",
       " 'Kagaku Ninja-tai Gatchaman (Movie)']"
      ]
     },
     "execution_count": 11,
     "metadata": {},
     "output_type": "execute_result"
    }
   ],
   "source": [
    "# Entrer des films déjà vus et appréciés (une liste)\n",
    "# Voir les noms exacte dans movies_metadata.csv\n",
    "r1.recommander(['One Piece'], 3, option='et')"
   ]
  },
  {
   "cell_type": "code",
   "execution_count": 9,
   "metadata": {},
   "outputs": [],
   "source": [
    "# Definition de l'objet du recommendeur pour film\n",
    "r2 = recommendeur(movies_meta, movies_ratings, rating_missing_value=1.0)"
   ]
  },
  {
   "cell_type": "code",
   "execution_count": 12,
   "metadata": {},
   "outputs": [
    {
     "data": {
      "text/plain": [
       "['Johnny English', \"Something's Gotta Give\", 'Shark Tale']"
      ]
     },
     "execution_count": 12,
     "metadata": {},
     "output_type": "execute_result"
    }
   ],
   "source": [
    "# Entrer des films déjà vus et appréciés (une liste)\n",
    "# Voir les noms exacte dans movies_metadata.csv\n",
    "r2.recommander(['Ice Age', 'Finding Nemo'], 3, option='et')"
   ]
  },
  {
   "cell_type": "code",
   "execution_count": null,
   "metadata": {},
   "outputs": [],
   "source": []
  }
 ],
 "metadata": {
  "kernelspec": {
   "display_name": "Python 3",
   "language": "python",
   "name": "python3"
  },
  "language_info": {
   "codemirror_mode": {
    "name": "ipython",
    "version": 3
   },
   "file_extension": ".py",
   "mimetype": "text/x-python",
   "name": "python",
   "nbconvert_exporter": "python",
   "pygments_lexer": "ipython3",
   "version": "3.8.5"
  }
 },
 "nbformat": 4,
 "nbformat_minor": 4
}
